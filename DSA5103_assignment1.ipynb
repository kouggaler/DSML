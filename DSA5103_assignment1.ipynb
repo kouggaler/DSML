{
 "cells": [
  {
   "cell_type": "code",
   "execution_count": 25,
   "id": "1ea22838",
   "metadata": {},
   "outputs": [],
   "source": [
    "from sklearn import datasets\n",
    "import pandas as pd\n",
    "import numpy as np\n",
    "import matplotlib.pyplot as plt\n",
    "import math"
   ]
  },
  {
   "cell_type": "code",
   "execution_count": null,
   "id": "824b65ab",
   "metadata": {},
   "outputs": [],
   "source": [
    "import seaborn as sns\n",
    "sns.set_context('notebook', font_scale=1.25, rc={\"lines.linewidth\": 2.5})\n",
    "sns.set_style(\"darkgrid\")"
   ]
  },
  {
   "cell_type": "markdown",
   "id": "1eec4cf6",
   "metadata": {},
   "source": [
    "## Matrix inverse"
   ]
  },
  {
   "cell_type": "code",
   "execution_count": 12,
   "id": "bc343909",
   "metadata": {},
   "outputs": [],
   "source": [
    "import time\n",
    "class Timer(object):\n",
    "    def __init__(self, name=None):\n",
    "        self.name = name\n",
    "\n",
    "    def __enter__(self):\n",
    "        self.tstart = time.time()\n",
    "\n",
    "    def __exit__(self, type, value, traceback):\n",
    "        if self.name:\n",
    "            print('[%s]' % self.name,)\n",
    "        print('Elapsed: %s' % (time.time() - self.tstart))"
   ]
  },
  {
   "cell_type": "code",
   "execution_count": 17,
   "id": "f9ec1286",
   "metadata": {},
   "outputs": [
    {
     "name": "stdout",
     "output_type": "stream",
     "text": [
      "[Inveting matrix]\n",
      "Elapsed: 0.05183577537536621\n"
     ]
    }
   ],
   "source": [
    "with Timer('Inveting matrix'):\n",
    "    X = np.random.random((1000, 1000))\n",
    "    X_inv = np.linalg.inv(X)"
   ]
  },
  {
   "cell_type": "code",
   "execution_count": null,
   "id": "1335b189",
   "metadata": {},
   "outputs": [],
   "source": [
    "n = 1\n",
    "result = {}\n",
    "try:\n",
    "    X = np.random.random((n*1000, n*1000))\n",
    "    while True:\n",
    "        t = time.time()\n",
    "        X_inv = np.linalg.inv(X)\n",
    "        elapsed = time.time() - t\n",
    "        result[n*1000] = math.log10(elapsed)\n",
    "        n += 1\n",
    "except:\n",
    "    print('exceeded')\n",
    "    result"
   ]
  },
  {
   "cell_type": "code",
   "execution_count": 29,
   "id": "c316ac87",
   "metadata": {},
   "outputs": [
    {
     "data": {
      "image/png": "[encoded data removed]",
      "text/plain": [
       "<Figure size 432x288 with 1 Axes>"
      ]
     },
     "metadata": {
      "needs_background": "light"
     },
     "output_type": "display_data"
    }
   ],
   "source": [
    "lists = sorted(result.items())\n",
    "x, y = zip(*lists)\n",
    "plt.plot(x, y)\n",
    "plt.xlabel('n')\n",
    "plt.ylabel('Elapse Time');\n",
    "plt.show()"
   ]
  },
  {
   "cell_type": "markdown",
   "id": "e2a0f6be",
   "metadata": {},
   "source": [
    "## PCA"
   ]
  },
  {
   "cell_type": "code",
   "execution_count": null,
   "id": "7e93ed87",
   "metadata": {},
   "outputs": [],
   "source": [
    "iris = datasets.load_iris()"
   ]
  },
  {
   "cell_type": "code",
   "execution_count": null,
   "id": "974376d6",
   "metadata": {},
   "outputs": [],
   "source": [
    "data = pd.DataFrame(data= np.c_[iris['data'], iris['target']],\n",
    "                     columns= iris['feature_names'] + ['target'])"
   ]
  },
  {
   "cell_type": "code",
   "execution_count": null,
   "id": "e5456374",
   "metadata": {},
   "outputs": [],
   "source": [
    "data['species'] = data['target'].map({0.0: 'setosa', 1.0: 'versicolor', 2.0: 'virginica'})\n",
    "#data = data.drop(['target'], axis = 1)"
   ]
  },
  {
   "cell_type": "code",
   "execution_count": null,
   "id": "caf0a3c3",
   "metadata": {},
   "outputs": [],
   "source": [
    "num_cols = data.describe().columns.to_list()[:-1]\n",
    "for col in num_cols:\n",
    "    data[col] = (data[col] - data[col].mean()) / data[col].std()"
   ]
  },
  {
   "cell_type": "markdown",
   "id": "55b95c1d",
   "metadata": {},
   "source": [
    "### (2) Standardizing data"
   ]
  },
  {
   "cell_type": "code",
   "execution_count": null,
   "id": "b5660a83",
   "metadata": {},
   "outputs": [],
   "source": [
    "data.head(3)"
   ]
  },
  {
   "cell_type": "markdown",
   "id": "8f3dd785",
   "metadata": {},
   "source": [
    "### (3) Computing p x p coveriance matrix"
   ]
  },
  {
   "cell_type": "code",
   "execution_count": null,
   "id": "7d266a62",
   "metadata": {},
   "outputs": [],
   "source": [
    "df_cov = data[num_cols].cov()\n",
    "df_cov"
   ]
  },
  {
   "cell_type": "markdown",
   "id": "5d5c90dc",
   "metadata": {},
   "source": [
    "### (4) Eigenvalue decomposition of p x p covariance matrix"
   ]
  },
  {
   "cell_type": "code",
   "execution_count": null,
   "id": "245397b1",
   "metadata": {},
   "outputs": [],
   "source": [
    "D, Q = np.linalg.eig(df_cov.replace('n/a', 0).astype(float))"
   ]
  },
  {
   "cell_type": "code",
   "execution_count": null,
   "id": "eb200486",
   "metadata": {},
   "outputs": [],
   "source": [
    "idx = D.argsort()[::-1] \n",
    "D = D[idx]\n",
    "Q = Q[:,idx]"
   ]
  },
  {
   "cell_type": "markdown",
   "id": "ac0dcfd2",
   "metadata": {},
   "source": [
    "#### Eigenvectors"
   ]
  },
  {
   "cell_type": "code",
   "execution_count": null,
   "id": "718afcb7",
   "metadata": {},
   "outputs": [],
   "source": [
    "Q"
   ]
  },
  {
   "cell_type": "markdown",
   "id": "3f690f9e",
   "metadata": {},
   "source": [
    "#### Eigenvectors"
   ]
  },
  {
   "cell_type": "code",
   "execution_count": null,
   "id": "abdbc3a0",
   "metadata": {},
   "outputs": [],
   "source": [
    "D"
   ]
  },
  {
   "cell_type": "markdown",
   "id": "6dc078e1",
   "metadata": {},
   "source": [
    "### (5) Obtain First principal component and visualise its contribution "
   ]
  },
  {
   "cell_type": "code",
   "execution_count": null,
   "id": "84b4540b",
   "metadata": {},
   "outputs": [],
   "source": [
    "D_first = D[0]\n",
    "Q_first = Q[:,0]"
   ]
  },
  {
   "cell_type": "code",
   "execution_count": null,
   "id": "cf6ed06a",
   "metadata": {},
   "outputs": [],
   "source": [
    "Q_first"
   ]
  },
  {
   "cell_type": "code",
   "execution_count": null,
   "id": "e5643e08",
   "metadata": {},
   "outputs": [],
   "source": [
    "X = data[num_cols]\n",
    "X_new = X*Q_first"
   ]
  },
  {
   "cell_type": "code",
   "execution_count": null,
   "id": "43a2db62",
   "metadata": {},
   "outputs": [],
   "source": [
    "data['First_principal'] = X_new[num_cols].sum(axis=1)"
   ]
  },
  {
   "cell_type": "code",
   "execution_count": null,
   "id": "aa7a2654",
   "metadata": {},
   "outputs": [],
   "source": [
    "data['zeros'] = 0"
   ]
  },
  {
   "cell_type": "code",
   "execution_count": null,
   "id": "9c3c5bc0",
   "metadata": {},
   "outputs": [],
   "source": [
    "fig, ax= plt.subplots(figsize=(12, 6))\n",
    "data.plot(kind = \"scatter\", \n",
    "            x='First_principal', \n",
    "            y = 'zeros', \n",
    "            c='target',\n",
    "            cmap=\"viridis\",\n",
    "            marker = \"o\",\n",
    "            ax=ax)"
   ]
  },
  {
   "cell_type": "markdown",
   "id": "c8e89ce6",
   "metadata": {},
   "source": [
    "### (6) First and second principal components"
   ]
  },
  {
   "cell_type": "code",
   "execution_count": null,
   "id": "66437195",
   "metadata": {},
   "outputs": [],
   "source": [
    "D_first = D[0]\n",
    "Q_first = Q[:,0]"
   ]
  },
  {
   "cell_type": "code",
   "execution_count": null,
   "id": "1ec0fc8b",
   "metadata": {},
   "outputs": [],
   "source": [
    "D_second = D[1]\n",
    "Q_second = Q[:,1]"
   ]
  },
  {
   "cell_type": "code",
   "execution_count": null,
   "id": "cb8a1597",
   "metadata": {},
   "outputs": [],
   "source": [
    "Q_first"
   ]
  },
  {
   "cell_type": "code",
   "execution_count": null,
   "id": "bfbb2fd8",
   "metadata": {},
   "outputs": [],
   "source": [
    "Q_second"
   ]
  },
  {
   "cell_type": "code",
   "execution_count": null,
   "id": "4c1458a8",
   "metadata": {},
   "outputs": [],
   "source": [
    "X = data[num_cols]\n",
    "X_new = X*Q_second"
   ]
  },
  {
   "cell_type": "code",
   "execution_count": null,
   "id": "4bd3eea2",
   "metadata": {},
   "outputs": [],
   "source": [
    "data['Second_principal'] = X_new[num_cols].sum(axis=1)"
   ]
  },
  {
   "cell_type": "code",
   "execution_count": null,
   "id": "c62ffb46",
   "metadata": {},
   "outputs": [],
   "source": [
    "fig, ax= plt.subplots(figsize=(12, 6))\n",
    "data.plot(kind = \"scatter\", \n",
    "            x='First_principal', \n",
    "            y = 'Second_principal', \n",
    "            c='target',\n",
    "            cmap=\"viridis\",\n",
    "            marker = \"o\",\n",
    "            ax=ax)"
   ]
  }
 ],
 "metadata": {
  "kernelspec": {
   "display_name": "Python 3",
   "language": "python",
   "name": "python3"
  },
  "language_info": {
   "codemirror_mode": {
    "name": "ipython",
    "version": 3
   },
   "file_extension": ".py",
   "mimetype": "text/x-python",
   "name": "python",
   "nbconvert_exporter": "python",
   "pygments_lexer": "ipython3",
   "version": "3.8.8"
  }
 },
 "nbformat": 4,
 "nbformat_minor": 5
}
