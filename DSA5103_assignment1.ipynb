{
 "cells": [
  {
   "cell_type": "code",
   "execution_count": 90,
   "id": "e884d691",
   "metadata": {},
   "outputs": [],
   "source": [
    "from sklearn import datasets\n",
    "import pandas as pd\n",
    "import numpy as np\n",
    "import matplotlib.pyplot as plt\n",
    "import math"
   ]
  },
  {
   "cell_type": "code",
   "execution_count": 91,
   "id": "d866482d",
   "metadata": {},
   "outputs": [],
   "source": [
    "import seaborn as sns\n",
    "sns.set_context('notebook', font_scale=1.25, rc={\"lines.linewidth\": 2.5})\n",
    "sns.set_style(\"darkgrid\")"
   ]
  },
  {
   "cell_type": "markdown",
   "id": "9a307fe7",
   "metadata": {},
   "source": [
    "## Matrix inverse"
   ]
  },
  {
   "cell_type": "code",
   "execution_count": 12,
   "id": "bdf1d797",
   "metadata": {},
   "outputs": [],
   "source": [
    "import time\n",
    "class Timer(object):\n",
    "    def __init__(self, name=None):\n",
    "        self.name = name\n",
    "\n",
    "    def __enter__(self):\n",
    "        self.tstart = time.time()\n",
    "\n",
    "    def __exit__(self, type, value, traceback):\n",
    "        if self.name:\n",
    "            print('[%s]' % self.name,)\n",
    "        print('Elapsed: %s' % (time.time() - self.tstart))"
   ]
  },
  {
   "cell_type": "code",
   "execution_count": 37,
   "id": "1aac5dfc",
   "metadata": {},
   "outputs": [
    {
     "name": "stdout",
     "output_type": "stream",
     "text": [
      "exceeded\n"
     ]
    }
   ],
   "source": [
    "n = 1\n",
    "result = {}\n",
    "try:\n",
    "    while True:\n",
    "        X = np.random.random((n*1000, n*1000))\n",
    "        t = time.time()\n",
    "        X_inv = np.linalg.inv(X)\n",
    "        elapsed = time.time() - t\n",
    "        result[n*1000] = math.log10(elapsed)\n",
    "        n += 1\n",
    "except:\n",
    "    print('exceeded')\n",
    "    result"
   ]
  },
  {
   "cell_type": "code",
   "execution_count": 75,
   "id": "7b36adec",
   "metadata": {},
   "outputs": [
    {
     "data": {
      "image/png": "[encoded data removed]",
      "text/plain": [
       "<Figure size 720x432 with 1 Axes>"
      ]
     },
     "metadata": {
      "needs_background": "light"
     },
     "output_type": "display_data"
    }
   ],
   "source": [
    "lists = sorted(result.items())\n",
    "x, y = zip(*lists)\n",
    "\n",
    "fig, ax = plt.subplots(figsize = (10,6))\n",
    "\n",
    "ax.plot(x, y)\n",
    "ax.set_xlabel('n')\n",
    "ax.set_ylabel('log10_Elapse Time');\n",
    "ax.set_xlim([0, 37000])\n",
    "ax.set_xticks(np.arange(min(x), 37001, 1000), np.arange(min(x), 37001, 1000), rotation=45, ha='center')\n",
    "plt.show()\n"
   ]
  },
  {
   "cell_type": "code",
   "execution_count": 87,
   "id": "02cb8b17",
   "metadata": {},
   "outputs": [
    {
     "data": {
      "text/plain": [
       "615.0102007389067"
      ]
     },
     "execution_count": 87,
     "metadata": {},
     "output_type": "execute_result"
    }
   ],
   "source": [
    "math.pow(10,result[37000])"
   ]
  },
  {
   "cell_type": "markdown",
   "id": "8fa0ac61",
   "metadata": {},
   "source": [
    "#### Maximum n is 37000 using 615 seconds"
   ]
  },
  {
   "cell_type": "markdown",
   "id": "2a7cd8b5",
   "metadata": {},
   "source": [
    "## PCA"
   ]
  },
  {
   "cell_type": "code",
   "execution_count": 92,
   "id": "92da3225",
   "metadata": {},
   "outputs": [],
   "source": [
    "iris = datasets.load_iris()"
   ]
  },
  {
   "cell_type": "code",
   "execution_count": 93,
   "id": "ec0eb9c1",
   "metadata": {},
   "outputs": [],
   "source": [
    "data = pd.DataFrame(data= np.c_[iris['data'], iris['target']],\n",
    "                     columns= iris['feature_names'] + ['target'])"
   ]
  },
  {
   "cell_type": "code",
   "execution_count": 94,
   "id": "c22b5b47",
   "metadata": {},
   "outputs": [],
   "source": [
    "data['species'] = data['target'].map({0.0: 'setosa', 1.0: 'versicolor', 2.0: 'virginica'})\n",
    "#data = data.drop(['target'], axis = 1)"
   ]
  },
  {
   "cell_type": "code",
   "execution_count": 95,
   "id": "70782784",
   "metadata": {},
   "outputs": [],
   "source": [
    "num_cols = data.describe().columns.to_list()[:-1]\n",
    "for col in num_cols:\n",
    "    data[col] = (data[col] - data[col].mean()) / data[col].std()"
   ]
  },
  {
   "cell_type": "markdown",
   "id": "76a5f5f1",
   "metadata": {},
   "source": [
    "### (2) Standardizing data"
   ]
  },
  {
   "cell_type": "code",
   "execution_count": 96,
   "id": "afa5c1a7",
   "metadata": {},
   "outputs": [
    {
     "data": {
      "text/html": [
       "<div>\n",
       "<style scoped>\n",
       "    .dataframe tbody tr th:only-of-type {\n",
       "        vertical-align: middle;\n",
       "    }\n",
       "\n",
       "    .dataframe tbody tr th {\n",
       "        vertical-align: top;\n",
       "    }\n",
       "\n",
       "    .dataframe thead th {\n",
       "        text-align: right;\n",
       "    }\n",
       "</style>\n",
       "<table border=\"1\" class=\"dataframe\">\n",
       "  <thead>\n",
       "    <tr style=\"text-align: right;\">\n",
       "      <th></th>\n",
       "      <th>sepal length (cm)</th>\n",
       "      <th>sepal width (cm)</th>\n",
       "      <th>petal length (cm)</th>\n",
       "      <th>petal width (cm)</th>\n",
       "      <th>target</th>\n",
       "      <th>species</th>\n",
       "    </tr>\n",
       "  </thead>\n",
       "  <tbody>\n",
       "    <tr>\n",
       "      <th>0</th>\n",
       "      <td>-0.897674</td>\n",
       "      <td>1.015602</td>\n",
       "      <td>-1.335752</td>\n",
       "      <td>-1.311052</td>\n",
       "      <td>0.0</td>\n",
       "      <td>setosa</td>\n",
       "    </tr>\n",
       "    <tr>\n",
       "      <th>1</th>\n",
       "      <td>-1.139200</td>\n",
       "      <td>-0.131539</td>\n",
       "      <td>-1.335752</td>\n",
       "      <td>-1.311052</td>\n",
       "      <td>0.0</td>\n",
       "      <td>setosa</td>\n",
       "    </tr>\n",
       "    <tr>\n",
       "      <th>2</th>\n",
       "      <td>-1.380727</td>\n",
       "      <td>0.327318</td>\n",
       "      <td>-1.392399</td>\n",
       "      <td>-1.311052</td>\n",
       "      <td>0.0</td>\n",
       "      <td>setosa</td>\n",
       "    </tr>\n",
       "  </tbody>\n",
       "</table>\n",
       "</div>"
      ],
      "text/plain": [
       "   sepal length (cm)  sepal width (cm)  petal length (cm)  petal width (cm)  \\\n",
       "0          -0.897674          1.015602          -1.335752         -1.311052   \n",
       "1          -1.139200         -0.131539          -1.335752         -1.311052   \n",
       "2          -1.380727          0.327318          -1.392399         -1.311052   \n",
       "\n",
       "   target species  \n",
       "0     0.0  setosa  \n",
       "1     0.0  setosa  \n",
       "2     0.0  setosa  "
      ]
     },
     "execution_count": 96,
     "metadata": {},
     "output_type": "execute_result"
    }
   ],
   "source": [
    "data.head(3)"
   ]
  },
  {
   "cell_type": "markdown",
   "id": "04a87fd1",
   "metadata": {},
   "source": [
    "### (3) Computing p x p coveriance matrix"
   ]
  },
  {
   "cell_type": "code",
   "execution_count": 97,
   "id": "0d6f404c",
   "metadata": {},
   "outputs": [
    {
     "data": {
      "text/html": [
       "<div>\n",
       "<style scoped>\n",
       "    .dataframe tbody tr th:only-of-type {\n",
       "        vertical-align: middle;\n",
       "    }\n",
       "\n",
       "    .dataframe tbody tr th {\n",
       "        vertical-align: top;\n",
       "    }\n",
       "\n",
       "    .dataframe thead th {\n",
       "        text-align: right;\n",
       "    }\n",
       "</style>\n",
       "<table border=\"1\" class=\"dataframe\">\n",
       "  <thead>\n",
       "    <tr style=\"text-align: right;\">\n",
       "      <th></th>\n",
       "      <th>sepal length (cm)</th>\n",
       "      <th>sepal width (cm)</th>\n",
       "      <th>petal length (cm)</th>\n",
       "      <th>petal width (cm)</th>\n",
       "    </tr>\n",
       "  </thead>\n",
       "  <tbody>\n",
       "    <tr>\n",
       "      <th>sepal length (cm)</th>\n",
       "      <td>1.000000</td>\n",
       "      <td>-0.117570</td>\n",
       "      <td>0.871754</td>\n",
       "      <td>0.817941</td>\n",
       "    </tr>\n",
       "    <tr>\n",
       "      <th>sepal width (cm)</th>\n",
       "      <td>-0.117570</td>\n",
       "      <td>1.000000</td>\n",
       "      <td>-0.428440</td>\n",
       "      <td>-0.366126</td>\n",
       "    </tr>\n",
       "    <tr>\n",
       "      <th>petal length (cm)</th>\n",
       "      <td>0.871754</td>\n",
       "      <td>-0.428440</td>\n",
       "      <td>1.000000</td>\n",
       "      <td>0.962865</td>\n",
       "    </tr>\n",
       "    <tr>\n",
       "      <th>petal width (cm)</th>\n",
       "      <td>0.817941</td>\n",
       "      <td>-0.366126</td>\n",
       "      <td>0.962865</td>\n",
       "      <td>1.000000</td>\n",
       "    </tr>\n",
       "  </tbody>\n",
       "</table>\n",
       "</div>"
      ],
      "text/plain": [
       "                   sepal length (cm)  sepal width (cm)  petal length (cm)  \\\n",
       "sepal length (cm)           1.000000         -0.117570           0.871754   \n",
       "sepal width (cm)           -0.117570          1.000000          -0.428440   \n",
       "petal length (cm)           0.871754         -0.428440           1.000000   \n",
       "petal width (cm)            0.817941         -0.366126           0.962865   \n",
       "\n",
       "                   petal width (cm)  \n",
       "sepal length (cm)          0.817941  \n",
       "sepal width (cm)          -0.366126  \n",
       "petal length (cm)          0.962865  \n",
       "petal width (cm)           1.000000  "
      ]
     },
     "execution_count": 97,
     "metadata": {},
     "output_type": "execute_result"
    }
   ],
   "source": [
    "df_cov = data[num_cols].cov()\n",
    "df_cov"
   ]
  },
  {
   "cell_type": "markdown",
   "id": "8f456dfb",
   "metadata": {},
   "source": [
    "### (4) Eigenvalue decomposition of p x p covariance matrix"
   ]
  },
  {
   "cell_type": "code",
   "execution_count": 98,
   "id": "292cb4b0",
   "metadata": {},
   "outputs": [],
   "source": [
    "D, Q = np.linalg.eig(df_cov.replace('n/a', 0).astype(float))"
   ]
  },
  {
   "cell_type": "code",
   "execution_count": 99,
   "id": "e4f387b6",
   "metadata": {},
   "outputs": [],
   "source": [
    "idx = D.argsort()[::-1] \n",
    "D = D[idx]\n",
    "Q = Q[:,idx]"
   ]
  },
  {
   "cell_type": "markdown",
   "id": "595cb7fe",
   "metadata": {},
   "source": [
    "#### Eigenvectors"
   ]
  },
  {
   "cell_type": "code",
   "execution_count": 100,
   "id": "3148e808",
   "metadata": {},
   "outputs": [
    {
     "data": {
      "text/plain": [
       "array([[ 0.52106591, -0.37741762, -0.71956635,  0.26128628],\n",
       "       [-0.26934744, -0.92329566,  0.24438178, -0.12350962],\n",
       "       [ 0.5804131 , -0.02449161,  0.14212637, -0.80144925],\n",
       "       [ 0.56485654, -0.06694199,  0.63427274,  0.52359713]])"
      ]
     },
     "execution_count": 100,
     "metadata": {},
     "output_type": "execute_result"
    }
   ],
   "source": [
    "Q"
   ]
  },
  {
   "cell_type": "markdown",
   "id": "a0418dd6",
   "metadata": {},
   "source": [
    "#### Eigenvectors"
   ]
  },
  {
   "cell_type": "code",
   "execution_count": 101,
   "id": "2a77457c",
   "metadata": {},
   "outputs": [
    {
     "data": {
      "text/plain": [
       "array([2.91849782, 0.91403047, 0.14675688, 0.02071484])"
      ]
     },
     "execution_count": 101,
     "metadata": {},
     "output_type": "execute_result"
    }
   ],
   "source": [
    "D"
   ]
  },
  {
   "cell_type": "markdown",
   "id": "b4bbe4fa",
   "metadata": {},
   "source": [
    "### (5) Obtain First principal component and visualise its contribution "
   ]
  },
  {
   "cell_type": "code",
   "execution_count": 102,
   "id": "40a668ce",
   "metadata": {},
   "outputs": [],
   "source": [
    "D_first = D[0]\n",
    "Q_first = Q[:,0]"
   ]
  },
  {
   "cell_type": "code",
   "execution_count": 103,
   "id": "e1b79a19",
   "metadata": {},
   "outputs": [
    {
     "data": {
      "text/plain": [
       "array([ 0.52106591, -0.26934744,  0.5804131 ,  0.56485654])"
      ]
     },
     "execution_count": 103,
     "metadata": {},
     "output_type": "execute_result"
    }
   ],
   "source": [
    "Q_first"
   ]
  },
  {
   "cell_type": "code",
   "execution_count": 104,
   "id": "c2202ae2",
   "metadata": {},
   "outputs": [],
   "source": [
    "X = data[num_cols]\n",
    "X_new = X*Q_first"
   ]
  },
  {
   "cell_type": "code",
   "execution_count": 105,
   "id": "bb94853c",
   "metadata": {},
   "outputs": [],
   "source": [
    "data['First_principal'] = X_new[num_cols].sum(axis=1)"
   ]
  },
  {
   "cell_type": "code",
   "execution_count": 106,
   "id": "8b145def",
   "metadata": {},
   "outputs": [],
   "source": [
    "data['zeros'] = 0"
   ]
  },
  {
   "cell_type": "code",
   "execution_count": 107,
   "id": "8933830d",
   "metadata": {},
   "outputs": [
    {
     "data": {
      "text/plain": [
       "<AxesSubplot:xlabel='First_principal', ylabel='zeros'>"
      ]
     },
     "execution_count": 107,
     "metadata": {},
     "output_type": "execute_result"
    },
    {
     "data": {
      "image/png": "[encoded data removed]",
      "text/plain": [
       "<Figure size 864x432 with 2 Axes>"
      ]
     },
     "metadata": {},
     "output_type": "display_data"
    }
   ],
   "source": [
    "fig, ax= plt.subplots(figsize=(12, 6))\n",
    "data.plot(kind = \"scatter\", \n",
    "            x='First_principal', \n",
    "            y = 'zeros', \n",
    "            c='target',\n",
    "            cmap=\"viridis\",\n",
    "            marker = \"o\",\n",
    "            ax=ax)"
   ]
  },
  {
   "cell_type": "markdown",
   "id": "3f305183",
   "metadata": {},
   "source": [
    "### (6) First and second principal components"
   ]
  },
  {
   "cell_type": "code",
   "execution_count": 108,
   "id": "64db344d",
   "metadata": {},
   "outputs": [],
   "source": [
    "D_first = D[0]\n",
    "Q_first = Q[:,0]"
   ]
  },
  {
   "cell_type": "code",
   "execution_count": 109,
   "id": "908fd728",
   "metadata": {},
   "outputs": [],
   "source": [
    "D_second = D[1]\n",
    "Q_second = Q[:,1]"
   ]
  },
  {
   "cell_type": "code",
   "execution_count": 110,
   "id": "0f684024",
   "metadata": {},
   "outputs": [
    {
     "data": {
      "text/plain": [
       "array([ 0.52106591, -0.26934744,  0.5804131 ,  0.56485654])"
      ]
     },
     "execution_count": 110,
     "metadata": {},
     "output_type": "execute_result"
    }
   ],
   "source": [
    "Q_first"
   ]
  },
  {
   "cell_type": "code",
   "execution_count": 111,
   "id": "90c25e0e",
   "metadata": {},
   "outputs": [
    {
     "data": {
      "text/plain": [
       "array([-0.37741762, -0.92329566, -0.02449161, -0.06694199])"
      ]
     },
     "execution_count": 111,
     "metadata": {},
     "output_type": "execute_result"
    }
   ],
   "source": [
    "Q_second"
   ]
  },
  {
   "cell_type": "code",
   "execution_count": 112,
   "id": "170fdb9e",
   "metadata": {},
   "outputs": [],
   "source": [
    "X = data[num_cols]\n",
    "X_new = X*Q_second"
   ]
  },
  {
   "cell_type": "code",
   "execution_count": 113,
   "id": "5a11bb95",
   "metadata": {},
   "outputs": [],
   "source": [
    "data['Second_principal'] = X_new[num_cols].sum(axis=1)"
   ]
  },
  {
   "cell_type": "code",
   "execution_count": 114,
   "id": "f3340185",
   "metadata": {},
   "outputs": [
    {
     "data": {
      "text/plain": [
       "<AxesSubplot:xlabel='First_principal', ylabel='Second_principal'>"
      ]
     },
     "execution_count": 114,
     "metadata": {},
     "output_type": "execute_result"
    },
    {
     "data": {
      "image/png": "[encoded data removed]",
      "text/plain": [
       "<Figure size 864x432 with 2 Axes>"
      ]
     },
     "metadata": {},
     "output_type": "display_data"
    }
   ],
   "source": [
    "fig, ax= plt.subplots(figsize=(12, 6))\n",
    "data.plot(kind = \"scatter\", \n",
    "            x='First_principal', \n",
    "            y = 'Second_principal', \n",
    "            c='target',\n",
    "            cmap=\"viridis\",\n",
    "            marker = \"o\",\n",
    "            ax=ax)"
   ]
  },
  {
   "cell_type": "code",
   "execution_count": null,
   "id": "b6acf922",
   "metadata": {},
   "outputs": [],
   "source": []
  }
 ],
 "metadata": {
  "kernelspec": {
   "display_name": "Python 3",
   "language": "python",
   "name": "python3"
  },
  "language_info": {
   "codemirror_mode": {
    "name": "ipython",
    "version": 3
   },
   "file_extension": ".py",
   "mimetype": "text/x-python",
   "name": "python",
   "nbconvert_exporter": "python",
   "pygments_lexer": "ipython3",
   "version": "3.8.8"
  }
 },
 "nbformat": 4,
 "nbformat_minor": 5
}
